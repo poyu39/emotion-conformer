{
 "cells": [
  {
   "cell_type": "code",
   "execution_count": 5,
   "id": "98fe38f2",
   "metadata": {},
   "outputs": [
    {
     "data": {
      "application/vnd.plotly.v1+json": {
       "config": {
        "plotlyServerURL": "https://plot.ly"
       },
       "data": [
        {
         "line": {
          "dash": "solid"
         },
         "marker": {
          "color": "#1f77b4"
         },
         "mode": "lines+markers",
         "name": "v1 (w noise)",
         "opacity": 1,
         "type": "scatter",
         "x": {
          "bdata": "AAECAwQFBgcICQ==",
          "dtype": "i1"
         },
         "y": {
          "bdata": "X0SPEBUlEEAojBoRvlYVQMrhhtg8iP4/RLWC9EOCGECOKQo8r5EdQCVUc00MjAdA5/tvbmZmEUD4xAGHUycFQLNPcGp67xFAUK1m7UhDE0A=",
          "dtype": "f8"
         }
        },
        {
         "line": {
          "dash": "dot"
         },
         "marker": {
          "color": "#1f77b4"
         },
         "mode": "lines+markers",
         "name": "v1 (w/o noise)",
         "opacity": 0.3,
         "type": "scatter",
         "x": {
          "bdata": "AAECAwQFBgcICQ==",
          "dtype": "i1"
         },
         "y": {
          "bdata": "AAAAAAAAEEAAAAAAAAAQQAAAAAAAABBAAAAAAAAAEEAAAAAAAAAQQAAAAAAAABBAAAAAAAAAEEAAAAAAAAAQQAAAAAAAABBAAAAAAAAAEEA=",
          "dtype": "f8"
         }
        },
        {
         "line": {
          "dash": "solid"
         },
         "marker": {
          "color": "#ff7f0e"
         },
         "mode": "lines+markers",
         "name": "v2 (w noise)",
         "opacity": 1,
         "type": "scatter",
         "x": {
          "bdata": "AAECAwQFBgcICQ==",
          "dtype": "i1"
         },
         "y": {
          "bdata": "AsBQJjHhH0Bcp2ggC1zoP6IxMZWlhRdASMiTK5XT5r/UfNC2FfzxP5KyUwBzb/o/UJLuc+ZH+T+ztxPhxFz5P+BFUagHWxNAcmQxLKBaCkA=",
          "dtype": "f8"
         }
        },
        {
         "line": {
          "dash": "dot"
         },
         "marker": {
          "color": "#ff7f0e"
         },
         "mode": "lines+markers",
         "name": "v2 (w/o noise)",
         "opacity": 0.3,
         "type": "scatter",
         "x": {
          "bdata": "AAECAwQFBgcICQ==",
          "dtype": "i1"
         },
         "y": {
          "bdata": "AAAAAAAAAEAAAAAAAAAAQAAAAAAAAABAAAAAAAAAAEAAAAAAAAAAQAAAAAAAAABAAAAAAAAAAEAAAAAAAAAAQAAAAAAAAABAAAAAAAAAAEA=",
          "dtype": "f8"
         }
        },
        {
         "line": {
          "dash": "solid"
         },
         "marker": {
          "color": "#2ca02c"
         },
         "mode": "lines+markers",
         "name": "v3 (w noise)",
         "opacity": 1,
         "type": "scatter",
         "x": {
          "bdata": "AAECAwQFBgcICQ==",
          "dtype": "i1"
         },
         "y": {
          "bdata": "W2+Ar6U8BEDbTZzCdZ/wv9VuSezQz/g/QcY0ReG0HECqTMpRwLzrv2BB0KG0PfE/bR5JGt7x+T8o2/ELP4vIP0p5i/sbH+i/l8sfWPNXAMA=",
          "dtype": "f8"
         }
        },
        {
         "line": {
          "dash": "dot"
         },
         "marker": {
          "color": "#2ca02c"
         },
         "mode": "lines+markers",
         "name": "v3 (w/o noise)",
         "opacity": 0.3,
         "type": "scatter",
         "x": {
          "bdata": "AAECAwQFBgcICQ==",
          "dtype": "i1"
         },
         "y": {
          "bdata": "mpmZmZmZyT+amZmZmZnJP5qZmZmZmck/mpmZmZmZyT+amZmZmZnJP5qZmZmZmck/mpmZmZmZyT+amZmZmZnJP5qZmZmZmck/mpmZmZmZyT8=",
          "dtype": "f8"
         }
        }
       ],
       "layout": {
        "legend": {
         "title": {
          "text": "Codewords"
         }
        },
        "template": {
         "data": {
          "bar": [
           {
            "error_x": {
             "color": "#2a3f5f"
            },
            "error_y": {
             "color": "#2a3f5f"
            },
            "marker": {
             "line": {
              "color": "#E5ECF6",
              "width": 0.5
             },
             "pattern": {
              "fillmode": "overlay",
              "size": 10,
              "solidity": 0.2
             }
            },
            "type": "bar"
           }
          ],
          "barpolar": [
           {
            "marker": {
             "line": {
              "color": "#E5ECF6",
              "width": 0.5
             },
             "pattern": {
              "fillmode": "overlay",
              "size": 10,
              "solidity": 0.2
             }
            },
            "type": "barpolar"
           }
          ],
          "carpet": [
           {
            "aaxis": {
             "endlinecolor": "#2a3f5f",
             "gridcolor": "white",
             "linecolor": "white",
             "minorgridcolor": "white",
             "startlinecolor": "#2a3f5f"
            },
            "baxis": {
             "endlinecolor": "#2a3f5f",
             "gridcolor": "white",
             "linecolor": "white",
             "minorgridcolor": "white",
             "startlinecolor": "#2a3f5f"
            },
            "type": "carpet"
           }
          ],
          "choropleth": [
           {
            "colorbar": {
             "outlinewidth": 0,
             "ticks": ""
            },
            "type": "choropleth"
           }
          ],
          "contour": [
           {
            "colorbar": {
             "outlinewidth": 0,
             "ticks": ""
            },
            "colorscale": [
             [
              0,
              "#0d0887"
             ],
             [
              0.1111111111111111,
              "#46039f"
             ],
             [
              0.2222222222222222,
              "#7201a8"
             ],
             [
              0.3333333333333333,
              "#9c179e"
             ],
             [
              0.4444444444444444,
              "#bd3786"
             ],
             [
              0.5555555555555556,
              "#d8576b"
             ],
             [
              0.6666666666666666,
              "#ed7953"
             ],
             [
              0.7777777777777778,
              "#fb9f3a"
             ],
             [
              0.8888888888888888,
              "#fdca26"
             ],
             [
              1,
              "#f0f921"
             ]
            ],
            "type": "contour"
           }
          ],
          "contourcarpet": [
           {
            "colorbar": {
             "outlinewidth": 0,
             "ticks": ""
            },
            "type": "contourcarpet"
           }
          ],
          "heatmap": [
           {
            "colorbar": {
             "outlinewidth": 0,
             "ticks": ""
            },
            "colorscale": [
             [
              0,
              "#0d0887"
             ],
             [
              0.1111111111111111,
              "#46039f"
             ],
             [
              0.2222222222222222,
              "#7201a8"
             ],
             [
              0.3333333333333333,
              "#9c179e"
             ],
             [
              0.4444444444444444,
              "#bd3786"
             ],
             [
              0.5555555555555556,
              "#d8576b"
             ],
             [
              0.6666666666666666,
              "#ed7953"
             ],
             [
              0.7777777777777778,
              "#fb9f3a"
             ],
             [
              0.8888888888888888,
              "#fdca26"
             ],
             [
              1,
              "#f0f921"
             ]
            ],
            "type": "heatmap"
           }
          ],
          "histogram": [
           {
            "marker": {
             "pattern": {
              "fillmode": "overlay",
              "size": 10,
              "solidity": 0.2
             }
            },
            "type": "histogram"
           }
          ],
          "histogram2d": [
           {
            "colorbar": {
             "outlinewidth": 0,
             "ticks": ""
            },
            "colorscale": [
             [
              0,
              "#0d0887"
             ],
             [
              0.1111111111111111,
              "#46039f"
             ],
             [
              0.2222222222222222,
              "#7201a8"
             ],
             [
              0.3333333333333333,
              "#9c179e"
             ],
             [
              0.4444444444444444,
              "#bd3786"
             ],
             [
              0.5555555555555556,
              "#d8576b"
             ],
             [
              0.6666666666666666,
              "#ed7953"
             ],
             [
              0.7777777777777778,
              "#fb9f3a"
             ],
             [
              0.8888888888888888,
              "#fdca26"
             ],
             [
              1,
              "#f0f921"
             ]
            ],
            "type": "histogram2d"
           }
          ],
          "histogram2dcontour": [
           {
            "colorbar": {
             "outlinewidth": 0,
             "ticks": ""
            },
            "colorscale": [
             [
              0,
              "#0d0887"
             ],
             [
              0.1111111111111111,
              "#46039f"
             ],
             [
              0.2222222222222222,
              "#7201a8"
             ],
             [
              0.3333333333333333,
              "#9c179e"
             ],
             [
              0.4444444444444444,
              "#bd3786"
             ],
             [
              0.5555555555555556,
              "#d8576b"
             ],
             [
              0.6666666666666666,
              "#ed7953"
             ],
             [
              0.7777777777777778,
              "#fb9f3a"
             ],
             [
              0.8888888888888888,
              "#fdca26"
             ],
             [
              1,
              "#f0f921"
             ]
            ],
            "type": "histogram2dcontour"
           }
          ],
          "mesh3d": [
           {
            "colorbar": {
             "outlinewidth": 0,
             "ticks": ""
            },
            "type": "mesh3d"
           }
          ],
          "parcoords": [
           {
            "line": {
             "colorbar": {
              "outlinewidth": 0,
              "ticks": ""
             }
            },
            "type": "parcoords"
           }
          ],
          "pie": [
           {
            "automargin": true,
            "type": "pie"
           }
          ],
          "scatter": [
           {
            "fillpattern": {
             "fillmode": "overlay",
             "size": 10,
             "solidity": 0.2
            },
            "type": "scatter"
           }
          ],
          "scatter3d": [
           {
            "line": {
             "colorbar": {
              "outlinewidth": 0,
              "ticks": ""
             }
            },
            "marker": {
             "colorbar": {
              "outlinewidth": 0,
              "ticks": ""
             }
            },
            "type": "scatter3d"
           }
          ],
          "scattercarpet": [
           {
            "marker": {
             "colorbar": {
              "outlinewidth": 0,
              "ticks": ""
             }
            },
            "type": "scattercarpet"
           }
          ],
          "scattergeo": [
           {
            "marker": {
             "colorbar": {
              "outlinewidth": 0,
              "ticks": ""
             }
            },
            "type": "scattergeo"
           }
          ],
          "scattergl": [
           {
            "marker": {
             "colorbar": {
              "outlinewidth": 0,
              "ticks": ""
             }
            },
            "type": "scattergl"
           }
          ],
          "scattermap": [
           {
            "marker": {
             "colorbar": {
              "outlinewidth": 0,
              "ticks": ""
             }
            },
            "type": "scattermap"
           }
          ],
          "scattermapbox": [
           {
            "marker": {
             "colorbar": {
              "outlinewidth": 0,
              "ticks": ""
             }
            },
            "type": "scattermapbox"
           }
          ],
          "scatterpolar": [
           {
            "marker": {
             "colorbar": {
              "outlinewidth": 0,
              "ticks": ""
             }
            },
            "type": "scatterpolar"
           }
          ],
          "scatterpolargl": [
           {
            "marker": {
             "colorbar": {
              "outlinewidth": 0,
              "ticks": ""
             }
            },
            "type": "scatterpolargl"
           }
          ],
          "scatterternary": [
           {
            "marker": {
             "colorbar": {
              "outlinewidth": 0,
              "ticks": ""
             }
            },
            "type": "scatterternary"
           }
          ],
          "surface": [
           {
            "colorbar": {
             "outlinewidth": 0,
             "ticks": ""
            },
            "colorscale": [
             [
              0,
              "#0d0887"
             ],
             [
              0.1111111111111111,
              "#46039f"
             ],
             [
              0.2222222222222222,
              "#7201a8"
             ],
             [
              0.3333333333333333,
              "#9c179e"
             ],
             [
              0.4444444444444444,
              "#bd3786"
             ],
             [
              0.5555555555555556,
              "#d8576b"
             ],
             [
              0.6666666666666666,
              "#ed7953"
             ],
             [
              0.7777777777777778,
              "#fb9f3a"
             ],
             [
              0.8888888888888888,
              "#fdca26"
             ],
             [
              1,
              "#f0f921"
             ]
            ],
            "type": "surface"
           }
          ],
          "table": [
           {
            "cells": {
             "fill": {
              "color": "#EBF0F8"
             },
             "line": {
              "color": "white"
             }
            },
            "header": {
             "fill": {
              "color": "#C8D4E3"
             },
             "line": {
              "color": "white"
             }
            },
            "type": "table"
           }
          ]
         },
         "layout": {
          "annotationdefaults": {
           "arrowcolor": "#2a3f5f",
           "arrowhead": 0,
           "arrowwidth": 1
          },
          "autotypenumbers": "strict",
          "coloraxis": {
           "colorbar": {
            "outlinewidth": 0,
            "ticks": ""
           }
          },
          "colorscale": {
           "diverging": [
            [
             0,
             "#8e0152"
            ],
            [
             0.1,
             "#c51b7d"
            ],
            [
             0.2,
             "#de77ae"
            ],
            [
             0.3,
             "#f1b6da"
            ],
            [
             0.4,
             "#fde0ef"
            ],
            [
             0.5,
             "#f7f7f7"
            ],
            [
             0.6,
             "#e6f5d0"
            ],
            [
             0.7,
             "#b8e186"
            ],
            [
             0.8,
             "#7fbc41"
            ],
            [
             0.9,
             "#4d9221"
            ],
            [
             1,
             "#276419"
            ]
           ],
           "sequential": [
            [
             0,
             "#0d0887"
            ],
            [
             0.1111111111111111,
             "#46039f"
            ],
            [
             0.2222222222222222,
             "#7201a8"
            ],
            [
             0.3333333333333333,
             "#9c179e"
            ],
            [
             0.4444444444444444,
             "#bd3786"
            ],
            [
             0.5555555555555556,
             "#d8576b"
            ],
            [
             0.6666666666666666,
             "#ed7953"
            ],
            [
             0.7777777777777778,
             "#fb9f3a"
            ],
            [
             0.8888888888888888,
             "#fdca26"
            ],
            [
             1,
             "#f0f921"
            ]
           ],
           "sequentialminus": [
            [
             0,
             "#0d0887"
            ],
            [
             0.1111111111111111,
             "#46039f"
            ],
            [
             0.2222222222222222,
             "#7201a8"
            ],
            [
             0.3333333333333333,
             "#9c179e"
            ],
            [
             0.4444444444444444,
             "#bd3786"
            ],
            [
             0.5555555555555556,
             "#d8576b"
            ],
            [
             0.6666666666666666,
             "#ed7953"
            ],
            [
             0.7777777777777778,
             "#fb9f3a"
            ],
            [
             0.8888888888888888,
             "#fdca26"
            ],
            [
             1,
             "#f0f921"
            ]
           ]
          },
          "colorway": [
           "#636efa",
           "#EF553B",
           "#00cc96",
           "#ab63fa",
           "#FFA15A",
           "#19d3f3",
           "#FF6692",
           "#B6E880",
           "#FF97FF",
           "#FECB52"
          ],
          "font": {
           "color": "#2a3f5f"
          },
          "geo": {
           "bgcolor": "white",
           "lakecolor": "white",
           "landcolor": "#E5ECF6",
           "showlakes": true,
           "showland": true,
           "subunitcolor": "white"
          },
          "hoverlabel": {
           "align": "left"
          },
          "hovermode": "closest",
          "mapbox": {
           "style": "light"
          },
          "paper_bgcolor": "white",
          "plot_bgcolor": "#E5ECF6",
          "polar": {
           "angularaxis": {
            "gridcolor": "white",
            "linecolor": "white",
            "ticks": ""
           },
           "bgcolor": "#E5ECF6",
           "radialaxis": {
            "gridcolor": "white",
            "linecolor": "white",
            "ticks": ""
           }
          },
          "scene": {
           "xaxis": {
            "backgroundcolor": "#E5ECF6",
            "gridcolor": "white",
            "gridwidth": 2,
            "linecolor": "white",
            "showbackground": true,
            "ticks": "",
            "zerolinecolor": "white"
           },
           "yaxis": {
            "backgroundcolor": "#E5ECF6",
            "gridcolor": "white",
            "gridwidth": 2,
            "linecolor": "white",
            "showbackground": true,
            "ticks": "",
            "zerolinecolor": "white"
           },
           "zaxis": {
            "backgroundcolor": "#E5ECF6",
            "gridcolor": "white",
            "gridwidth": 2,
            "linecolor": "white",
            "showbackground": true,
            "ticks": "",
            "zerolinecolor": "white"
           }
          },
          "shapedefaults": {
           "line": {
            "color": "#2a3f5f"
           }
          },
          "ternary": {
           "aaxis": {
            "gridcolor": "white",
            "linecolor": "white",
            "ticks": ""
           },
           "baxis": {
            "gridcolor": "white",
            "linecolor": "white",
            "ticks": ""
           },
           "bgcolor": "#E5ECF6",
           "caxis": {
            "gridcolor": "white",
            "linecolor": "white",
            "ticks": ""
           }
          },
          "title": {
           "x": 0.05
          },
          "xaxis": {
           "automargin": true,
           "gridcolor": "white",
           "linecolor": "white",
           "ticks": "",
           "title": {
            "standoff": 15
           },
           "zerolinecolor": "white",
           "zerolinewidth": 2
          },
          "yaxis": {
           "automargin": true,
           "gridcolor": "white",
           "linecolor": "white",
           "ticks": "",
           "title": {
            "standoff": 15
           },
           "zerolinecolor": "white",
           "zerolinewidth": 2
          }
         }
        },
        "title": {
         "text": "Comparison of Logits With and Without Gumbel Noise"
        },
        "xaxis": {
         "title": {
          "text": "Sample Index"
         }
        },
        "yaxis": {
         "title": {
          "text": "(logit + noise) / tau"
         }
        }
       }
      }
     },
     "metadata": {},
     "output_type": "display_data"
    }
   ],
   "source": [
    "import numpy as np\n",
    "import plotly.graph_objects as go\n",
    "import pandas as pd\n",
    "\n",
    "\n",
    "np.random.seed(42)\n",
    "\n",
    "logits = np.array([2.0, 1.0, 0.1])\n",
    "labels = ['v1', 'v2', 'v3']\n",
    "\n",
    "def sample_gumbel(shape, eps=1e-20):\n",
    "    U = np.random.uniform(0, 1, shape)\n",
    "    return -np.log(-np.log(U + eps) + eps)\n",
    "\n",
    "tau = 0.5\n",
    "samples = 10\n",
    "\n",
    "logits_data = []\n",
    "\n",
    "for i in range(samples):\n",
    "    noise = sample_gumbel(logits.shape)\n",
    "    for j, label in enumerate(labels):\n",
    "        logits_data.append({\n",
    "            'Sample': i,\n",
    "            'Codeword': label,\n",
    "            'Noisy Logit': (logits[j] + noise[j]) / tau,\n",
    "            'Type': 'With Gumbel Noise'\n",
    "        })\n",
    "        logits_data.append({\n",
    "            'Sample': i,\n",
    "            'Codeword': label,\n",
    "            'Noisy Logit': logits[j] / tau,\n",
    "            'Type': 'No Noise'\n",
    "        })\n",
    "\n",
    "df = pd.DataFrame(logits_data)\n",
    "\n",
    "fig = go.Figure()\n",
    "\n",
    "colors = ['#1f77b4', '#ff7f0e', '#2ca02c']\n",
    "\n",
    "for i, codeword in enumerate(labels):\n",
    "    df_noise = df[(df['Codeword'] == codeword) & (df['Type'] == 'With Gumbel Noise')]\n",
    "    df_nonoise = df[(df['Codeword'] == codeword) & (df['Type'] == 'No Noise')]\n",
    "    \n",
    "    color = colors[i % len(colors)]\n",
    "    \n",
    "    fig.add_trace(go.Scatter(\n",
    "        x=df_noise['Sample'],\n",
    "        y=df_noise['Noisy Logit'],\n",
    "        mode='lines+markers',\n",
    "        name=f'{codeword} (w noise)',\n",
    "        line=dict(dash='solid'),\n",
    "        marker=dict(color=color),\n",
    "        opacity=1.0\n",
    "    ))\n",
    "    \n",
    "    \n",
    "    fig.add_trace(go.Scatter(\n",
    "        x=df_nonoise['Sample'],\n",
    "        y=df_nonoise['Noisy Logit'],\n",
    "        mode='lines+markers',\n",
    "        name=f'{codeword} (w/o noise)',\n",
    "        line=dict(dash='dot'),\n",
    "        marker=dict(color=color),\n",
    "        opacity=0.3\n",
    "    ))\n",
    "\n",
    "fig.update_layout(\n",
    "    title='Comparison of Logits With and Without Gumbel Noise',\n",
    "    xaxis_title='Sample Index',\n",
    "    yaxis_title='(logit + noise) / tau',\n",
    "    legend_title='Codewords'\n",
    ")\n",
    "\n",
    "fig.show()\n"
   ]
  },
  {
   "cell_type": "code",
   "execution_count": 8,
   "id": "c3d65850",
   "metadata": {},
   "outputs": [
    {
     "data": {
      "application/vnd.plotly.v1+json": {
       "config": {
        "plotlyServerURL": "https://plot.ly"
       },
       "data": [
        {
         "line": {
          "color": "red",
          "dash": "dot"
         },
         "mode": "lines",
         "name": "argmax(x, 0)",
         "type": "scatter",
         "x": {
          "bdata": "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",
          "dtype": "f8"
         },
         "y": [
          0,
          0,
          0,
          0,
          0,
          0,
          0,
          0,
          0,
          0,
          0,
          0,
          0,
          0,
          0,
          0,
          0,
          0,
          0,
          0,
          0,
          0,
          0,
          0,
          0,
          0,
          0,
          0,
          0,
          0,
          0,
          0,
          0,
          0,
          0,
          0,
          0,
          0,
          0,
          0,
          0,
          0,
          0,
          0,
          0,
          0,
          0,
          0,
          0,
          0,
          0,
          0,
          0,
          0,
          0,
          0,
          0,
          0,
          0,
          0,
          0,
          0,
          0,
          0,
          0,
          0,
          0,
          0,
          0,
          0,
          0,
          0,
          0,
          0,
          0,
          0,
          0,
          0,
          0,
          0,
          0,
          0,
          0,
          0,
          0,
          0,
          0,
          0,
          0,
          0,
          0,
          0,
          0,
          0,
          0,
          0,
          0,
          0,
          0,
          0,
          1,
          1,
          1,
          1,
          1,
          1,
          1,
          1,
          1,
          1,
          1,
          1,
          1,
          1,
          1,
          1,
          1,
          1,
          1,
          1,
          1,
          1,
          1,
          1,
          1,
          1,
          1,
          1,
          1,
          1,
          1,
          1,
          1,
          1,
          1,
          1,
          1,
          1,
          1,
          1,
          1,
          1,
          1,
          1,
          1,
          1,
          1,
          1,
          1,
          1,
          1,
          1,
          1,
          1,
          1,
          1,
          1,
          1,
          1,
          1,
          1,
          1,
          1,
          1,
          1,
          1,
          1,
          1,
          1,
          1,
          1,
          1,
          1,
          1,
          1,
          1,
          1,
          1,
          1,
          1,
          1,
          1,
          1,
          1,
          1,
          1,
          1,
          1,
          1,
          1,
          1,
          1,
          1,
          1,
          1,
          1,
          1,
          1,
          1,
          1
         ]
        },
        {
         "line": {
          "color": "#a44ede"
         },
         "mode": "lines",
         "name": "softmax(x, 0), tau=0.02",
         "opacity": 0.95,
         "showlegend": false,
         "type": "scatter",
         "x": {
          "bdata": "AAAAAAAAFMD3wEbviswTwO6Bjd4VmRPA5ULUzaBlE8DcAxu9KzITwNPEYay2/hLAyoWom0HLEsDBRu+KzJcSwLgHNnpXZBLAr8h8aeIwEsCmicNYbf0RwJ1KCkj4yRHAlAtRN4OWEcCLzJcmDmMRwIKN3hWZLxHAeU4lBST8EMBwD2z0rsgQwGfQsuM5lRDAXpH50sRhEMBVUkDCTy4QwJgmDmO19Q/AhqibQcuOD8B0Kikg4ScPwGKstv72wA7AUC5E3QxaDsA+sNG7IvMNwCwyX5o4jA3AGrTseE4lDcAINnpXZL4MwPa3BzZ6VwzA5DmVFJDwC8DSuyLzpYkLwMA9sNG7IgvArr89sNG7CsCcQcuO51QKwIrDWG397QnAeEXmSxOHCcBmx3MqKSAJwFRJAQk/uQjAQsuO51RSCMAvTRzGausHwB3PqaSAhAfAC1E3g5YdB8D50sRhrLYGwOdUUkDCTwbA1dbfHtjoBcDDWG397YEFwLHa+tsDGwXAn1yIuhm0BMCN3hWZL00EwHtgo3dF5gPAaeIwVlt/A8BXZL40cRgDwEXmSxOHsQLAM2jZ8ZxKAsAh6mbQsuMBwA9s9K7IfAHA/e2Bjd4VAcDrbw9s9K4AwNnxnEoKSADAjudUUkDC/79q628PbPT+v0bvisyXJv6/IvOlicNY/b/+9sBG74r8v9r62wMbvfu/tv72wEbv+r+SAhJ+ciH6v24GLTueU/m/SgpI+MmF+L8mDmO19bf3vwISfnIh6va/3hWZL00c9r+6GbTseE71v5Ydz6mkgPS/ciHqZtCy879OJQUk/OTyvyopIOEnF/K/Bi07nlNJ8b/iMFZbf3vwv3hp4jBWW++/MHEYq62/7b/oeE4lBSTsv6CAhJ9ciOq/WIi6GbTs6L8QkPCTC1Hnv8iXJg5jteW/gJ9ciLoZ5L84p5ICEn7iv/CuyHxp4uC/UG397YGN3r/AfGniMFbbvzCM1dbfHti/oJtBy47n1L8Qq62/PbDRvwB1M2jZ8cy/4JMLUTeDxr/AsuM5lRTAv0Cjd0XmS7O/AISfXIi6mb8AhZ9ciLqZP4Cjd0XmS7M/4LLjOZUUwD8AlAtRN4PGPyB1M2jZ8cw/IKutvz2w0T+wm0HLjufUP0CM1dbfHtg/0Hxp4jBW2z9gbf3tgY3eP/iuyHxp4uA/QKeSAhJ+4j+In1yIuhnkP9CXJg5jteU/GJDwkwtR5z9giLoZtOzoP6iAhJ9ciOo/8HhOJQUk7D84cRirrb/tP4Bp4jBWW+8/5DBWW3978D8ILTueU0nxPywpIOEnF/I/UCUFJPzk8j90Iepm0LLzP5gdz6mkgPQ/vBm07HhO9T/gFZkvTRz2PwQSfnIh6vY/KA5jtfW39z9MCkj4yYX4P3AGLTueU/k/lAISfnIh+j+4/vbARu/6P9z62wMbvfs/APfARu+K/D8k86WJw1j9P0jvisyXJv4/bOtvD2z0/j+Q51RSQML/P9rxnEoKSABA7G8PbPSuAED+7YGN3hUBQBBs9K7IfAFAIupm0LLjAUA0aNnxnEoCQEbmSxOHsQJAWGS+NHEYA0Bq4jBWW38DQHxgo3dF5gNAjt4VmS9NBECgXIi6GbQEQLLa+tsDGwVAxFht/e2BBUDW1t8e2OgFQOhUUkDCTwZA+tLEYay2BkAMUTeDlh0HQB7PqaSAhAdAME0cxmrrB0BEy47nVFIIQFRJAQk/uQhAaMdzKikgCUB4ReZLE4cJQIzDWG397QlAnEHLjudUCkCwvz2w0bsKQMA9sNG7IgtA1Lsi86WJC0DkOZUUkPALQPi3BzZ6VwxACDZ6V2S+DEActOx4TiUNQCwyX5o4jA1AQLDRuyLzDUBQLkTdDFoOQGSstv72wA5AdCopIOEnD0CIqJtBy44PQJgmDmO19Q9AVlJAwk8uEEBekfnSxGEQQGjQsuM5lRBAcA9s9K7IEEB6TiUFJPwQQIKN3hWZLxFAjMyXJg5jEUCUC1E3g5YRQJ5KCkj4yRFAponDWG39EUCwyHxp4jASQLgHNnpXZBJAwkbvisyXEkDKhaibQcsSQNTEYay2/hJA3AMbvSsyE0DmQtTNoGUTQO6Bjd4VmRNA+MBG74rME0AAAAAAAAAUQA==",
          "dtype": "f8"
         },
         "y": {
          "bdata": "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",
          "dtype": "f8"
         }
        },
        {
         "line": {
          "color": "#a44ede"
         },
         "mode": "lines",
         "name": "softmax(x, 0), tau=0.12",
         "opacity": 0.9105263157894736,
         "showlegend": false,
         "type": "scatter",
         "x": {
          "bdata": "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",
          "dtype": "f8"
         },
         "y": {
          "bdata": "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",
          "dtype": "f8"
         }
        },
        {
         "line": {
          "color": "#a44ede"
         },
         "mode": "lines",
         "name": "softmax(x, 0), tau=0.23",
         "opacity": 0.8710526315789473,
         "showlegend": false,
         "type": "scatter",
         "x": {
          "bdata": "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",
          "dtype": "f8"
         },
         "y": {
          "bdata": "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",
          "dtype": "f8"
         }
        },
        {
         "line": {
          "color": "#a44ede"
         },
         "mode": "lines",
         "name": "softmax(x, 0), tau=0.33",
         "opacity": 0.831578947368421,
         "showlegend": false,
         "type": "scatter",
         "x": {
          "bdata": "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",
          "dtype": "f8"
         },
         "y": {
          "bdata": "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",
          "dtype": "f8"
         }
        },
        {
         "line": {
          "color": "#a44ede"
         },
         "mode": "lines",
         "name": "softmax(x, 0), tau=0.44",
         "opacity": 0.7921052631578946,
         "showlegend": false,
         "type": "scatter",
         "x": {
          "bdata": "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",
          "dtype": "f8"
         },
         "y": {
          "bdata": "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",
          "dtype": "f8"
         }
        },
        {
         "line": {
          "color": "#a44ede"
         },
         "mode": "lines",
         "name": "softmax(x, 0), tau=0.54",
         "opacity": 0.7526315789473683,
         "showlegend": false,
         "type": "scatter",
         "x": {
          "bdata": "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",
          "dtype": "f8"
         },
         "y": {
          "bdata": "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",
          "dtype": "f8"
         }
        },
        {
         "line": {
          "color": "#a44ede"
         },
         "mode": "lines",
         "name": "softmax(x, 0), tau=0.65",
         "opacity": 0.7131578947368421,
         "showlegend": false,
         "type": "scatter",
         "x": {
          "bdata": "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",
          "dtype": "f8"
         },
         "y": {
          "bdata": "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",
          "dtype": "f8"
         }
        },
        {
         "line": {
          "color": "#a44ede"
         },
         "mode": "lines",
         "name": "softmax(x, 0), tau=0.75",
         "opacity": 0.6736842105263158,
         "showlegend": false,
         "type": "scatter",
         "x": {
          "bdata": "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",
          "dtype": "f8"
         },
         "y": {
          "bdata": "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",
          "dtype": "f8"
         }
        },
        {
         "line": {
          "color": "#a44ede"
         },
         "mode": "lines",
         "name": "softmax(x, 0), tau=0.85",
         "opacity": 0.6342105263157894,
         "showlegend": false,
         "type": "scatter",
         "x": {
          "bdata": "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",
          "dtype": "f8"
         },
         "y": {
          "bdata": "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",
          "dtype": "f8"
         }
        },
        {
         "line": {
          "color": "#a44ede"
         },
         "mode": "lines",
         "name": "softmax(x, 0), tau=0.96",
         "opacity": 0.5947368421052631,
         "showlegend": false,
         "type": "scatter",
         "x": {
          "bdata": "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",
          "dtype": "f8"
         },
         "y": {
          "bdata": "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",
          "dtype": "f8"
         }
        },
        {
         "line": {
          "color": "#a44ede"
         },
         "mode": "lines",
         "name": "softmax(x, 0), tau=1.06",
         "opacity": 0.5552631578947368,
         "showlegend": false,
         "type": "scatter",
         "x": {
          "bdata": "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",
          "dtype": "f8"
         },
         "y": {
          "bdata": "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",
          "dtype": "f8"
         }
        },
        {
         "line": {
          "color": "#a44ede"
         },
         "mode": "lines",
         "name": "softmax(x, 0), tau=1.17",
         "opacity": 0.5157894736842106,
         "showlegend": false,
         "type": "scatter",
         "x": {
          "bdata": "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",
          "dtype": "f8"
         },
         "y": {
          "bdata": "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",
          "dtype": "f8"
         }
        },
        {
         "line": {
          "color": "#a44ede"
         },
         "mode": "lines",
         "name": "softmax(x, 0), tau=1.27",
         "opacity": 0.4763157894736842,
         "showlegend": false,
         "type": "scatter",
         "x": {
          "bdata": "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",
          "dtype": "f8"
         },
         "y": {
          "bdata": "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",
          "dtype": "f8"
         }
        },
        {
         "line": {
          "color": "#a44ede"
         },
         "mode": "lines",
         "name": "softmax(x, 0), tau=1.37",
         "opacity": 0.4368421052631579,
         "showlegend": false,
         "type": "scatter",
         "x": {
          "bdata": "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",
          "dtype": "f8"
         },
         "y": {
          "bdata": "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",
          "dtype": "f8"
         }
        },
        {
         "line": {
          "color": "#a44ede"
         },
         "mode": "lines",
         "name": "softmax(x, 0), tau=1.48",
         "opacity": 0.3973684210526316,
         "showlegend": false,
         "type": "scatter",
         "x": {
          "bdata": "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",
          "dtype": "f8"
         },
         "y": {
          "bdata": "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",
          "dtype": "f8"
         }
        },
        {
         "line": {
          "color": "#a44ede"
         },
         "mode": "lines",
         "name": "softmax(x, 0), tau=1.58",
         "opacity": 0.35789473684210527,
         "showlegend": false,
         "type": "scatter",
         "x": {
          "bdata": "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",
          "dtype": "f8"
         },
         "y": {
          "bdata": "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",
          "dtype": "f8"
         }
        },
        {
         "line": {
          "color": "#a44ede"
         },
         "mode": "lines",
         "name": "softmax(x, 0), tau=1.69",
         "opacity": 0.31842105263157894,
         "showlegend": false,
         "type": "scatter",
         "x": {
          "bdata": "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",
          "dtype": "f8"
         },
         "y": {
          "bdata": "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",
          "dtype": "f8"
         }
        },
        {
         "line": {
          "color": "#a44ede"
         },
         "mode": "lines",
         "name": "softmax(x, 0), tau=1.79",
         "opacity": 0.2789473684210526,
         "showlegend": false,
         "type": "scatter",
         "x": {
          "bdata": "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",
          "dtype": "f8"
         },
         "y": {
          "bdata": "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",
          "dtype": "f8"
         }
        },
        {
         "line": {
          "color": "#a44ede"
         },
         "mode": "lines",
         "name": "softmax(x, 0), tau=1.90",
         "opacity": 0.23947368421052628,
         "showlegend": false,
         "type": "scatter",
         "x": {
          "bdata": "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",
          "dtype": "f8"
         },
         "y": {
          "bdata": "eHLLsbsXsT+wpor5OYWxP7c5H+5A9bE/U0DE6dxnsj9m8YRgGt2yP1W9it4FVbM/6OBMBqzPsz9Df6COGU20P0FSqEBbzbQ/jQSj9X1QtT8fT5eUjta1PwH63A+aX7Y/8eiBYq3rtj9UZYqN1Xq3P3riC5UfDbg/5YQhfZiiuD+9w7lGTTu5P9OKPOxK17k/71QJXp52uj9Uycx+VBm7P9F7rR96v7s/GYZP/BtpvD/syK62Rha9Pzi/z9IGx70/JOlGsmh7vj9o9JaPeDO/P5PnZXlC778/stzEJmlXwD/dcPbZGbnAP5/MpQy5HME/81LlVEyCwT/SXrQl2enBP83aJcxkU8I/6XF1bPS+wj/pJAz/jCzDP6oodU0znMM/aQxE7+sNxD+QQe1Gu4HEPz06kn6l98Q/ym/ChK5vxT9BvzIJ2unFP0qmbHkrZsY/vQh3/aXkxj+RQ3p0TGXHP6BvYXEh6Mc/T9N6NydtyD+0nhm3X/TIP+wpO4rMfck/dggy8W4Jyj+IXlnPR5fKP7n+0qdXJ8s/ke1Smp65yz86//pfHE7MP1ZXSUjQ5Mw/kaUcNrl9zT9DCdGc1RjOPxGUeH0jts4/E24yZKBVzz/XpaNlSffPP49dSo6NTdA/THrb04ig0D8XR8pTlPTQP8JjV56tSdE/MmjmAtKf0T8pQT+P/vbRP0fi6g4wT9I/Y7CsCmOo0j8Q+hnIkwLTPzjEUEm+XdM/3R7PTN650z/UIWxN7xbUP/eac4LsdNQ/q17l39DT1D8SEdkWlzPVP2MhB5Y5lNU/fpJ3irL11T8cC1fg+1fWPy2G8kMPu9Y/99fZIuYe1z/NFymteYPXP6fX+NbC6Nc/D+z0WbpO2D+EXhm3WLXYPw78lDiWHNk/A8nQ82qE2T/feZvLzuzZP43od3K5Vdo/RVUNbSK/2j+BGrgUASnbPyFVOZpMk9s/vNyDCPz92z8dxKRHBmncP0d4xR9i1Nw/PnRFPAZA3T9PYuku6avdP15oHXMBGN4/P0RIcUWE3j+JxyyCq/DeP8AvV/IpXd8/UsiTBbfJ3z/ZGzZ9JBvgPyFo1AZrUeA/PZzpPqqH4D/i3VtH3b3gP9NLcUb/8+A/2U6LaAsq4T/jRd3h/F/hP91DHfDOleE/8p0t3HzL4T+jEb77AQHiP3BV47JZNuI/wPKjdX9r4j9eVXnJbqDiP7sLxEYj1eI/EkMympgJ4z9/mxeGyj3jP/qBteO0ceM/v1BzpFOl4z/6iQXTotjjPy6Ug5SeC+Q/G3RrKUM+5D8EFJPujHDkP+q8Bl54ouQ/cnrUDwLU5D/CNsS6JgXlP05v/DTjNeU/eHeTdDRm5T+rUA2QF5blP4Uyxr6JxeU/Fu9JWYj05T+ScJjZECPmP+SdV9sgUeY/+QLzG7Z+5j/Pp6l6zqvmP92Oivhn2OY/bF9guIAE5z/oy4z+FjDnPyBO1DApW+c/ddwa1rWF5z/aQhKWu6/nPznR2jg52ec/ihaXpi0C6D97ZPPmlyroP/zaoSB3Uug/sL3LmMp56D+b1niykaDoPyuq7e3Lxug/MkAB6Hjs6D+dRGtZmBHpP1JACxYqNuk/X6gpDC5a6T/jfbNDpH3pP4U1cd2MoOk/U5g5EujC6T8tSyEytuTpPxikp6P3Beo/HG/h4qwm6j/RPaKA1kbqP27WpCF1Zuo/MFCzfYmF6j8OZM9eFKTqP3FxW6AWwuo/na9ELpHf6j/m/C4EhfzqP9a1oizzGOs/xvY8wNw06z+Go+LkQlDrP02J9swma+s/TOiStomF6z9Dq8bqbJ/rP9mM1rzRuOs/yWOCibnR6z/UyE62JerrPw5D07AXAuw/dCEN7pAZ7D/cIrfpkjDsPxkIpiUfR+w/4yYqKTdd7D89D3aA3HLsP4ZQCrwQiOw/1mYmcNWc7D9i1T40LLHsP6ZueKIWxew/iMcoV5bY7D9kz1vwrOvsP7GDXg1c/uw/VrNOTqUQ7T/iwq9TiiLtP8BgBL4MNO0/HBZtLS5F7T9vn0tB8FXtP7j16pdUZu0/GPArzlx27T/jYzZ/CobtP1aoLkRfle0/02Hvs1yk7T/2d8diBLPtP8kYPOJXwe0/KqvOwFjP7T+xkcaJCN3tPw==",
          "dtype": "f8"
         }
        },
        {
         "line": {
          "color": "#a44ede"
         },
         "mode": "lines",
         "name": "softmax(x, 0), tau=2.00",
         "opacity": 0.2,
         "showlegend": false,
         "type": "scatter",
         "x": {
          "bdata": "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",
          "dtype": "f8"
         },
         "y": {
          "bdata": "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",
          "dtype": "f8"
         }
        },
        {
         "marker": {
          "cmax": 2,
          "cmin": 0.02,
          "colorbar": {
           "len": 0.7,
           "thickness": 15,
           "ticktext": [
            "0.02",
            "2.00"
           ],
           "tickvals": [
            0.02,
            2
           ],
           "title": {
            "side": "top",
            "text": "tau"
           }
          },
          "colorscale": [
           [
            0,
            "rgba(164, 78, 222, 0.95)"
           ],
           [
            1,
            "rgba(164, 78, 222, 0.2)"
           ]
          ]
         },
         "mode": "markers",
         "showlegend": false,
         "type": "scatter",
         "x": [
          null
         ],
         "y": [
          null
         ]
        }
       ],
       "layout": {
        "template": {
         "data": {
          "bar": [
           {
            "error_x": {
             "color": "#2a3f5f"
            },
            "error_y": {
             "color": "#2a3f5f"
            },
            "marker": {
             "line": {
              "color": "#E5ECF6",
              "width": 0.5
             },
             "pattern": {
              "fillmode": "overlay",
              "size": 10,
              "solidity": 0.2
             }
            },
            "type": "bar"
           }
          ],
          "barpolar": [
           {
            "marker": {
             "line": {
              "color": "#E5ECF6",
              "width": 0.5
             },
             "pattern": {
              "fillmode": "overlay",
              "size": 10,
              "solidity": 0.2
             }
            },
            "type": "barpolar"
           }
          ],
          "carpet": [
           {
            "aaxis": {
             "endlinecolor": "#2a3f5f",
             "gridcolor": "white",
             "linecolor": "white",
             "minorgridcolor": "white",
             "startlinecolor": "#2a3f5f"
            },
            "baxis": {
             "endlinecolor": "#2a3f5f",
             "gridcolor": "white",
             "linecolor": "white",
             "minorgridcolor": "white",
             "startlinecolor": "#2a3f5f"
            },
            "type": "carpet"
           }
          ],
          "choropleth": [
           {
            "colorbar": {
             "outlinewidth": 0,
             "ticks": ""
            },
            "type": "choropleth"
           }
          ],
          "contour": [
           {
            "colorbar": {
             "outlinewidth": 0,
             "ticks": ""
            },
            "colorscale": [
             [
              0,
              "#0d0887"
             ],
             [
              0.1111111111111111,
              "#46039f"
             ],
             [
              0.2222222222222222,
              "#7201a8"
             ],
             [
              0.3333333333333333,
              "#9c179e"
             ],
             [
              0.4444444444444444,
              "#bd3786"
             ],
             [
              0.5555555555555556,
              "#d8576b"
             ],
             [
              0.6666666666666666,
              "#ed7953"
             ],
             [
              0.7777777777777778,
              "#fb9f3a"
             ],
             [
              0.8888888888888888,
              "#fdca26"
             ],
             [
              1,
              "#f0f921"
             ]
            ],
            "type": "contour"
           }
          ],
          "contourcarpet": [
           {
            "colorbar": {
             "outlinewidth": 0,
             "ticks": ""
            },
            "type": "contourcarpet"
           }
          ],
          "heatmap": [
           {
            "colorbar": {
             "outlinewidth": 0,
             "ticks": ""
            },
            "colorscale": [
             [
              0,
              "#0d0887"
             ],
             [
              0.1111111111111111,
              "#46039f"
             ],
             [
              0.2222222222222222,
              "#7201a8"
             ],
             [
              0.3333333333333333,
              "#9c179e"
             ],
             [
              0.4444444444444444,
              "#bd3786"
             ],
             [
              0.5555555555555556,
              "#d8576b"
             ],
             [
              0.6666666666666666,
              "#ed7953"
             ],
             [
              0.7777777777777778,
              "#fb9f3a"
             ],
             [
              0.8888888888888888,
              "#fdca26"
             ],
             [
              1,
              "#f0f921"
             ]
            ],
            "type": "heatmap"
           }
          ],
          "histogram": [
           {
            "marker": {
             "pattern": {
              "fillmode": "overlay",
              "size": 10,
              "solidity": 0.2
             }
            },
            "type": "histogram"
           }
          ],
          "histogram2d": [
           {
            "colorbar": {
             "outlinewidth": 0,
             "ticks": ""
            },
            "colorscale": [
             [
              0,
              "#0d0887"
             ],
             [
              0.1111111111111111,
              "#46039f"
             ],
             [
              0.2222222222222222,
              "#7201a8"
             ],
             [
              0.3333333333333333,
              "#9c179e"
             ],
             [
              0.4444444444444444,
              "#bd3786"
             ],
             [
              0.5555555555555556,
              "#d8576b"
             ],
             [
              0.6666666666666666,
              "#ed7953"
             ],
             [
              0.7777777777777778,
              "#fb9f3a"
             ],
             [
              0.8888888888888888,
              "#fdca26"
             ],
             [
              1,
              "#f0f921"
             ]
            ],
            "type": "histogram2d"
           }
          ],
          "histogram2dcontour": [
           {
            "colorbar": {
             "outlinewidth": 0,
             "ticks": ""
            },
            "colorscale": [
             [
              0,
              "#0d0887"
             ],
             [
              0.1111111111111111,
              "#46039f"
             ],
             [
              0.2222222222222222,
              "#7201a8"
             ],
             [
              0.3333333333333333,
              "#9c179e"
             ],
             [
              0.4444444444444444,
              "#bd3786"
             ],
             [
              0.5555555555555556,
              "#d8576b"
             ],
             [
              0.6666666666666666,
              "#ed7953"
             ],
             [
              0.7777777777777778,
              "#fb9f3a"
             ],
             [
              0.8888888888888888,
              "#fdca26"
             ],
             [
              1,
              "#f0f921"
             ]
            ],
            "type": "histogram2dcontour"
           }
          ],
          "mesh3d": [
           {
            "colorbar": {
             "outlinewidth": 0,
             "ticks": ""
            },
            "type": "mesh3d"
           }
          ],
          "parcoords": [
           {
            "line": {
             "colorbar": {
              "outlinewidth": 0,
              "ticks": ""
             }
            },
            "type": "parcoords"
           }
          ],
          "pie": [
           {
            "automargin": true,
            "type": "pie"
           }
          ],
          "scatter": [
           {
            "fillpattern": {
             "fillmode": "overlay",
             "size": 10,
             "solidity": 0.2
            },
            "type": "scatter"
           }
          ],
          "scatter3d": [
           {
            "line": {
             "colorbar": {
              "outlinewidth": 0,
              "ticks": ""
             }
            },
            "marker": {
             "colorbar": {
              "outlinewidth": 0,
              "ticks": ""
             }
            },
            "type": "scatter3d"
           }
          ],
          "scattercarpet": [
           {
            "marker": {
             "colorbar": {
              "outlinewidth": 0,
              "ticks": ""
             }
            },
            "type": "scattercarpet"
           }
          ],
          "scattergeo": [
           {
            "marker": {
             "colorbar": {
              "outlinewidth": 0,
              "ticks": ""
             }
            },
            "type": "scattergeo"
           }
          ],
          "scattergl": [
           {
            "marker": {
             "colorbar": {
              "outlinewidth": 0,
              "ticks": ""
             }
            },
            "type": "scattergl"
           }
          ],
          "scattermap": [
           {
            "marker": {
             "colorbar": {
              "outlinewidth": 0,
              "ticks": ""
             }
            },
            "type": "scattermap"
           }
          ],
          "scattermapbox": [
           {
            "marker": {
             "colorbar": {
              "outlinewidth": 0,
              "ticks": ""
             }
            },
            "type": "scattermapbox"
           }
          ],
          "scatterpolar": [
           {
            "marker": {
             "colorbar": {
              "outlinewidth": 0,
              "ticks": ""
             }
            },
            "type": "scatterpolar"
           }
          ],
          "scatterpolargl": [
           {
            "marker": {
             "colorbar": {
              "outlinewidth": 0,
              "ticks": ""
             }
            },
            "type": "scatterpolargl"
           }
          ],
          "scatterternary": [
           {
            "marker": {
             "colorbar": {
              "outlinewidth": 0,
              "ticks": ""
             }
            },
            "type": "scatterternary"
           }
          ],
          "surface": [
           {
            "colorbar": {
             "outlinewidth": 0,
             "ticks": ""
            },
            "colorscale": [
             [
              0,
              "#0d0887"
             ],
             [
              0.1111111111111111,
              "#46039f"
             ],
             [
              0.2222222222222222,
              "#7201a8"
             ],
             [
              0.3333333333333333,
              "#9c179e"
             ],
             [
              0.4444444444444444,
              "#bd3786"
             ],
             [
              0.5555555555555556,
              "#d8576b"
             ],
             [
              0.6666666666666666,
              "#ed7953"
             ],
             [
              0.7777777777777778,
              "#fb9f3a"
             ],
             [
              0.8888888888888888,
              "#fdca26"
             ],
             [
              1,
              "#f0f921"
             ]
            ],
            "type": "surface"
           }
          ],
          "table": [
           {
            "cells": {
             "fill": {
              "color": "#EBF0F8"
             },
             "line": {
              "color": "white"
             }
            },
            "header": {
             "fill": {
              "color": "#C8D4E3"
             },
             "line": {
              "color": "white"
             }
            },
            "type": "table"
           }
          ]
         },
         "layout": {
          "annotationdefaults": {
           "arrowcolor": "#2a3f5f",
           "arrowhead": 0,
           "arrowwidth": 1
          },
          "autotypenumbers": "strict",
          "coloraxis": {
           "colorbar": {
            "outlinewidth": 0,
            "ticks": ""
           }
          },
          "colorscale": {
           "diverging": [
            [
             0,
             "#8e0152"
            ],
            [
             0.1,
             "#c51b7d"
            ],
            [
             0.2,
             "#de77ae"
            ],
            [
             0.3,
             "#f1b6da"
            ],
            [
             0.4,
             "#fde0ef"
            ],
            [
             0.5,
             "#f7f7f7"
            ],
            [
             0.6,
             "#e6f5d0"
            ],
            [
             0.7,
             "#b8e186"
            ],
            [
             0.8,
             "#7fbc41"
            ],
            [
             0.9,
             "#4d9221"
            ],
            [
             1,
             "#276419"
            ]
           ],
           "sequential": [
            [
             0,
             "#0d0887"
            ],
            [
             0.1111111111111111,
             "#46039f"
            ],
            [
             0.2222222222222222,
             "#7201a8"
            ],
            [
             0.3333333333333333,
             "#9c179e"
            ],
            [
             0.4444444444444444,
             "#bd3786"
            ],
            [
             0.5555555555555556,
             "#d8576b"
            ],
            [
             0.6666666666666666,
             "#ed7953"
            ],
            [
             0.7777777777777778,
             "#fb9f3a"
            ],
            [
             0.8888888888888888,
             "#fdca26"
            ],
            [
             1,
             "#f0f921"
            ]
           ],
           "sequentialminus": [
            [
             0,
             "#0d0887"
            ],
            [
             0.1111111111111111,
             "#46039f"
            ],
            [
             0.2222222222222222,
             "#7201a8"
            ],
            [
             0.3333333333333333,
             "#9c179e"
            ],
            [
             0.4444444444444444,
             "#bd3786"
            ],
            [
             0.5555555555555556,
             "#d8576b"
            ],
            [
             0.6666666666666666,
             "#ed7953"
            ],
            [
             0.7777777777777778,
             "#fb9f3a"
            ],
            [
             0.8888888888888888,
             "#fdca26"
            ],
            [
             1,
             "#f0f921"
            ]
           ]
          },
          "colorway": [
           "#636efa",
           "#EF553B",
           "#00cc96",
           "#ab63fa",
           "#FFA15A",
           "#19d3f3",
           "#FF6692",
           "#B6E880",
           "#FF97FF",
           "#FECB52"
          ],
          "font": {
           "color": "#2a3f5f"
          },
          "geo": {
           "bgcolor": "white",
           "lakecolor": "white",
           "landcolor": "#E5ECF6",
           "showlakes": true,
           "showland": true,
           "subunitcolor": "white"
          },
          "hoverlabel": {
           "align": "left"
          },
          "hovermode": "closest",
          "mapbox": {
           "style": "light"
          },
          "paper_bgcolor": "white",
          "plot_bgcolor": "#E5ECF6",
          "polar": {
           "angularaxis": {
            "gridcolor": "white",
            "linecolor": "white",
            "ticks": ""
           },
           "bgcolor": "#E5ECF6",
           "radialaxis": {
            "gridcolor": "white",
            "linecolor": "white",
            "ticks": ""
           }
          },
          "scene": {
           "xaxis": {
            "backgroundcolor": "#E5ECF6",
            "gridcolor": "white",
            "gridwidth": 2,
            "linecolor": "white",
            "showbackground": true,
            "ticks": "",
            "zerolinecolor": "white"
           },
           "yaxis": {
            "backgroundcolor": "#E5ECF6",
            "gridcolor": "white",
            "gridwidth": 2,
            "linecolor": "white",
            "showbackground": true,
            "ticks": "",
            "zerolinecolor": "white"
           },
           "zaxis": {
            "backgroundcolor": "#E5ECF6",
            "gridcolor": "white",
            "gridwidth": 2,
            "linecolor": "white",
            "showbackground": true,
            "ticks": "",
            "zerolinecolor": "white"
           }
          },
          "shapedefaults": {
           "line": {
            "color": "#2a3f5f"
           }
          },
          "ternary": {
           "aaxis": {
            "gridcolor": "white",
            "linecolor": "white",
            "ticks": ""
           },
           "baxis": {
            "gridcolor": "white",
            "linecolor": "white",
            "ticks": ""
           },
           "bgcolor": "#E5ECF6",
           "caxis": {
            "gridcolor": "white",
            "linecolor": "white",
            "ticks": ""
           }
          },
          "title": {
           "x": 0.05
          },
          "xaxis": {
           "automargin": true,
           "gridcolor": "white",
           "linecolor": "white",
           "ticks": "",
           "title": {
            "standoff": 15
           },
           "zerolinecolor": "white",
           "zerolinewidth": 2
          },
          "yaxis": {
           "automargin": true,
           "gridcolor": "white",
           "linecolor": "white",
           "ticks": "",
           "title": {
            "standoff": 15
           },
           "zerolinecolor": "white",
           "zerolinewidth": 2
          }
         }
        },
        "title": {
         "text": "Argmax vs Softmax Approximation (tau: 0.02 ~ 2.0)"
        },
        "xaxis": {
         "title": {
          "text": "Logit x"
         }
        },
        "yaxis": {
         "title": {
          "text": "Probability of Choosing x"
         }
        }
       }
      }
     },
     "metadata": {},
     "output_type": "display_data"
    }
   ],
   "source": [
    "import numpy as np\n",
    "import plotly.graph_objects as go\n",
    "\n",
    "x_vals = np.linspace(-5, 5, 200)\n",
    "\n",
    "argmax_outputs = [1 if x > 0 else 0 for x in x_vals]\n",
    "\n",
    "# tau_0_5 = [np.exp(x / 0.5) / (np.exp(x / 0.5) + 1.0) for x in x_vals]\n",
    "# tau_1_0 = [np.exp(x / 1.0) / (np.exp(x / 1.0) + 1.0) for x in x_vals]\n",
    "\n",
    "taus = np.linspace(0.02, 2.0, 20)\n",
    "tau_lines = []\n",
    "for tau in taus:\n",
    "    tau_line = np.exp(x_vals / tau) / (np.exp(x_vals / tau) + 1.0)\n",
    "    tau_lines.append(tau_line)\n",
    "\n",
    "fig = go.Figure()\n",
    "\n",
    "# argmax\n",
    "fig.add_trace(go.Scatter(\n",
    "    x=x_vals, y=argmax_outputs,\n",
    "    mode='lines',\n",
    "    name='argmax(x, 0)',\n",
    "    line=dict(dash='dot', color='red')\n",
    "))\n",
    "\n",
    "opacitys = np.linspace(0.95, 0.2, len(tau_lines))\n",
    "for i, tau_line in enumerate(tau_lines):\n",
    "    fig.add_trace(\n",
    "        go.Scatter(\n",
    "            x=x_vals, y=tau_line,\n",
    "            mode='lines',\n",
    "            name=f'softmax(x, 0), tau={taus[i]:.2f}',\n",
    "            line=dict(color=\"#a44ede\"),\n",
    "            opacity=opacitys[i],\n",
    "            showlegend=False\n",
    "        )\n",
    "    )\n",
    "\n",
    "fig.add_trace(\n",
    "    go.Scatter(\n",
    "        x=[None], y=[None],\n",
    "        mode='markers',\n",
    "        marker=dict(\n",
    "            colorscale=[\n",
    "                [0, 'rgba(164, 78, 222, 0.95)'],\n",
    "                [1, 'rgba(164, 78, 222, 0.2)']\n",
    "            ],\n",
    "            cmin=taus.min(),\n",
    "            cmax=taus.max(),\n",
    "            colorbar=dict(\n",
    "                title='tau',\n",
    "                title_side='top',\n",
    "                thickness=15,\n",
    "                len=0.7,\n",
    "                tickvals=[taus.min(), taus.max()],\n",
    "                ticktext=[f'{taus.min():.2f}', f'{taus.max():.2f}']\n",
    "            )\n",
    "        ),\n",
    "        showlegend=False\n",
    "    )\n",
    ")\n",
    "\n",
    "fig.update_layout(\n",
    "    title='Argmax vs Softmax Approximation (tau: 0.02 ~ 2.0)',\n",
    "    xaxis_title='Logit x',\n",
    "    yaxis_title='Probability of Choosing x',\n",
    ")\n",
    "\n",
    "fig.show()"
   ]
  },
  {
   "cell_type": "code",
   "execution_count": null,
   "id": "e160aeb0",
   "metadata": {},
   "outputs": [
    {
     "data": {
      "application/vnd.plotly.v1+json": {
       "config": {
        "plotlyServerURL": "https://plot.ly"
       },
       "data": [
        {
         "alignmentgroup": "True",
         "boxpoints": "all",
         "fillcolor": "rgba(255,255,255,0)",
         "hoveron": "points",
         "hovertemplate": "Tau=2.0<br>Codeword=%{x}<br>Selection Probability=%{y}<extra></extra>",
         "legendgroup": "2.0",
         "line": {
          "color": "rgba(255,255,255,0)"
         },
         "marker": {
          "color": "#636efa"
         },
         "name": "2.0",
         "offsetgroup": "2.0",
         "orientation": "v",
         "pointpos": 0,
         "showlegend": true,
         "type": "box",
         "x": [
          "codeword 1",
          "codeword 2",
          "codeword 3"
         ],
         "x0": " ",
         "xaxis": "x",
         "y": {
          "bdata": "LdoJnTq1uj8mfheOWOXiPyqNjjwAiNM/",
          "dtype": "f8"
         },
         "y0": " ",
         "yaxis": "y"
        },
        {
         "alignmentgroup": "True",
         "boxpoints": "all",
         "fillcolor": "rgba(255,255,255,0)",
         "hoveron": "points",
         "hovertemplate": "Tau=1.0<br>Codeword=%{x}<br>Selection Probability=%{y}<extra></extra>",
         "legendgroup": "1.0",
         "line": {
          "color": "rgba(255,255,255,0)"
         },
         "marker": {
          "color": "#EF553B"
         },
         "name": "1.0",
         "offsetgroup": "1.0",
         "orientation": "v",
         "pointpos": 0,
         "showlegend": true,
         "type": "box",
         "x": [
          "codeword 1",
          "codeword 2",
          "codeword 3"
         ],
         "x0": " ",
         "xaxis": "x",
         "y": {
          "bdata": "5a32FbaemD9qaGBkvaXoP5uIv6szVco/",
          "dtype": "f8"
         },
         "y0": " ",
         "yaxis": "y"
        },
        {
         "alignmentgroup": "True",
         "boxpoints": "all",
         "fillcolor": "rgba(255,255,255,0)",
         "hoveron": "points",
         "hovertemplate": "Tau=0.5<br>Codeword=%{x}<br>Selection Probability=%{y}<extra></extra>",
         "legendgroup": "0.5",
         "line": {
          "color": "rgba(255,255,255,0)"
         },
         "marker": {
          "color": "#00cc96"
         },
         "name": "0.5",
         "offsetgroup": "0.5",
         "orientation": "v",
         "pointpos": 0,
         "showlegend": true,
         "type": "box",
         "x": [
          "codeword 1",
          "codeword 2",
          "codeword 3"
         ],
         "x0": " ",
         "xaxis": "x",
         "y": {
          "bdata": "wIpiu4rGTT9ZHmJYjdftPyVIeCcICLE/",
          "dtype": "f8"
         },
         "y0": " ",
         "yaxis": "y"
        },
        {
         "alignmentgroup": "True",
         "boxpoints": "all",
         "fillcolor": "rgba(255,255,255,0)",
         "hoveron": "points",
         "hovertemplate": "Tau=0.1<br>Codeword=%{x}<br>Selection Probability=%{y}<extra></extra>",
         "legendgroup": "0.1",
         "line": {
          "color": "rgba(255,255,255,0)"
         },
         "marker": {
          "color": "#ab63fa"
         },
         "name": "0.1",
         "offsetgroup": "0.1",
         "orientation": "v",
         "pointpos": 0,
         "showlegend": true,
         "type": "box",
         "x": [
          "codeword 1",
          "codeword 2",
          "codeword 3"
         ],
         "x0": " ",
         "xaxis": "x",
         "y": {
          "bdata": "rAcaVzClzzy6evYf/P/vP5O0+ilMAL8+",
          "dtype": "f8"
         },
         "y0": " ",
         "yaxis": "y"
        }
       ],
       "layout": {
        "boxmode": "group",
        "height": 300,
        "legend": {
         "title": {
          "text": "tau"
         },
         "tracegroupgap": 0
        },
        "template": {
         "data": {
          "bar": [
           {
            "error_x": {
             "color": "#2a3f5f"
            },
            "error_y": {
             "color": "#2a3f5f"
            },
            "marker": {
             "line": {
              "color": "#E5ECF6",
              "width": 0.5
             },
             "pattern": {
              "fillmode": "overlay",
              "size": 10,
              "solidity": 0.2
             }
            },
            "type": "bar"
           }
          ],
          "barpolar": [
           {
            "marker": {
             "line": {
              "color": "#E5ECF6",
              "width": 0.5
             },
             "pattern": {
              "fillmode": "overlay",
              "size": 10,
              "solidity": 0.2
             }
            },
            "type": "barpolar"
           }
          ],
          "carpet": [
           {
            "aaxis": {
             "endlinecolor": "#2a3f5f",
             "gridcolor": "white",
             "linecolor": "white",
             "minorgridcolor": "white",
             "startlinecolor": "#2a3f5f"
            },
            "baxis": {
             "endlinecolor": "#2a3f5f",
             "gridcolor": "white",
             "linecolor": "white",
             "minorgridcolor": "white",
             "startlinecolor": "#2a3f5f"
            },
            "type": "carpet"
           }
          ],
          "choropleth": [
           {
            "colorbar": {
             "outlinewidth": 0,
             "ticks": ""
            },
            "type": "choropleth"
           }
          ],
          "contour": [
           {
            "colorbar": {
             "outlinewidth": 0,
             "ticks": ""
            },
            "colorscale": [
             [
              0,
              "#0d0887"
             ],
             [
              0.1111111111111111,
              "#46039f"
             ],
             [
              0.2222222222222222,
              "#7201a8"
             ],
             [
              0.3333333333333333,
              "#9c179e"
             ],
             [
              0.4444444444444444,
              "#bd3786"
             ],
             [
              0.5555555555555556,
              "#d8576b"
             ],
             [
              0.6666666666666666,
              "#ed7953"
             ],
             [
              0.7777777777777778,
              "#fb9f3a"
             ],
             [
              0.8888888888888888,
              "#fdca26"
             ],
             [
              1,
              "#f0f921"
             ]
            ],
            "type": "contour"
           }
          ],
          "contourcarpet": [
           {
            "colorbar": {
             "outlinewidth": 0,
             "ticks": ""
            },
            "type": "contourcarpet"
           }
          ],
          "heatmap": [
           {
            "colorbar": {
             "outlinewidth": 0,
             "ticks": ""
            },
            "colorscale": [
             [
              0,
              "#0d0887"
             ],
             [
              0.1111111111111111,
              "#46039f"
             ],
             [
              0.2222222222222222,
              "#7201a8"
             ],
             [
              0.3333333333333333,
              "#9c179e"
             ],
             [
              0.4444444444444444,
              "#bd3786"
             ],
             [
              0.5555555555555556,
              "#d8576b"
             ],
             [
              0.6666666666666666,
              "#ed7953"
             ],
             [
              0.7777777777777778,
              "#fb9f3a"
             ],
             [
              0.8888888888888888,
              "#fdca26"
             ],
             [
              1,
              "#f0f921"
             ]
            ],
            "type": "heatmap"
           }
          ],
          "histogram": [
           {
            "marker": {
             "pattern": {
              "fillmode": "overlay",
              "size": 10,
              "solidity": 0.2
             }
            },
            "type": "histogram"
           }
          ],
          "histogram2d": [
           {
            "colorbar": {
             "outlinewidth": 0,
             "ticks": ""
            },
            "colorscale": [
             [
              0,
              "#0d0887"
             ],
             [
              0.1111111111111111,
              "#46039f"
             ],
             [
              0.2222222222222222,
              "#7201a8"
             ],
             [
              0.3333333333333333,
              "#9c179e"
             ],
             [
              0.4444444444444444,
              "#bd3786"
             ],
             [
              0.5555555555555556,
              "#d8576b"
             ],
             [
              0.6666666666666666,
              "#ed7953"
             ],
             [
              0.7777777777777778,
              "#fb9f3a"
             ],
             [
              0.8888888888888888,
              "#fdca26"
             ],
             [
              1,
              "#f0f921"
             ]
            ],
            "type": "histogram2d"
           }
          ],
          "histogram2dcontour": [
           {
            "colorbar": {
             "outlinewidth": 0,
             "ticks": ""
            },
            "colorscale": [
             [
              0,
              "#0d0887"
             ],
             [
              0.1111111111111111,
              "#46039f"
             ],
             [
              0.2222222222222222,
              "#7201a8"
             ],
             [
              0.3333333333333333,
              "#9c179e"
             ],
             [
              0.4444444444444444,
              "#bd3786"
             ],
             [
              0.5555555555555556,
              "#d8576b"
             ],
             [
              0.6666666666666666,
              "#ed7953"
             ],
             [
              0.7777777777777778,
              "#fb9f3a"
             ],
             [
              0.8888888888888888,
              "#fdca26"
             ],
             [
              1,
              "#f0f921"
             ]
            ],
            "type": "histogram2dcontour"
           }
          ],
          "mesh3d": [
           {
            "colorbar": {
             "outlinewidth": 0,
             "ticks": ""
            },
            "type": "mesh3d"
           }
          ],
          "parcoords": [
           {
            "line": {
             "colorbar": {
              "outlinewidth": 0,
              "ticks": ""
             }
            },
            "type": "parcoords"
           }
          ],
          "pie": [
           {
            "automargin": true,
            "type": "pie"
           }
          ],
          "scatter": [
           {
            "fillpattern": {
             "fillmode": "overlay",
             "size": 10,
             "solidity": 0.2
            },
            "type": "scatter"
           }
          ],
          "scatter3d": [
           {
            "line": {
             "colorbar": {
              "outlinewidth": 0,
              "ticks": ""
             }
            },
            "marker": {
             "colorbar": {
              "outlinewidth": 0,
              "ticks": ""
             }
            },
            "type": "scatter3d"
           }
          ],
          "scattercarpet": [
           {
            "marker": {
             "colorbar": {
              "outlinewidth": 0,
              "ticks": ""
             }
            },
            "type": "scattercarpet"
           }
          ],
          "scattergeo": [
           {
            "marker": {
             "colorbar": {
              "outlinewidth": 0,
              "ticks": ""
             }
            },
            "type": "scattergeo"
           }
          ],
          "scattergl": [
           {
            "marker": {
             "colorbar": {
              "outlinewidth": 0,
              "ticks": ""
             }
            },
            "type": "scattergl"
           }
          ],
          "scattermap": [
           {
            "marker": {
             "colorbar": {
              "outlinewidth": 0,
              "ticks": ""
             }
            },
            "type": "scattermap"
           }
          ],
          "scattermapbox": [
           {
            "marker": {
             "colorbar": {
              "outlinewidth": 0,
              "ticks": ""
             }
            },
            "type": "scattermapbox"
           }
          ],
          "scatterpolar": [
           {
            "marker": {
             "colorbar": {
              "outlinewidth": 0,
              "ticks": ""
             }
            },
            "type": "scatterpolar"
           }
          ],
          "scatterpolargl": [
           {
            "marker": {
             "colorbar": {
              "outlinewidth": 0,
              "ticks": ""
             }
            },
            "type": "scatterpolargl"
           }
          ],
          "scatterternary": [
           {
            "marker": {
             "colorbar": {
              "outlinewidth": 0,
              "ticks": ""
             }
            },
            "type": "scatterternary"
           }
          ],
          "surface": [
           {
            "colorbar": {
             "outlinewidth": 0,
             "ticks": ""
            },
            "colorscale": [
             [
              0,
              "#0d0887"
             ],
             [
              0.1111111111111111,
              "#46039f"
             ],
             [
              0.2222222222222222,
              "#7201a8"
             ],
             [
              0.3333333333333333,
              "#9c179e"
             ],
             [
              0.4444444444444444,
              "#bd3786"
             ],
             [
              0.5555555555555556,
              "#d8576b"
             ],
             [
              0.6666666666666666,
              "#ed7953"
             ],
             [
              0.7777777777777778,
              "#fb9f3a"
             ],
             [
              0.8888888888888888,
              "#fdca26"
             ],
             [
              1,
              "#f0f921"
             ]
            ],
            "type": "surface"
           }
          ],
          "table": [
           {
            "cells": {
             "fill": {
              "color": "#EBF0F8"
             },
             "line": {
              "color": "white"
             }
            },
            "header": {
             "fill": {
              "color": "#C8D4E3"
             },
             "line": {
              "color": "white"
             }
            },
            "type": "table"
           }
          ]
         },
         "layout": {
          "annotationdefaults": {
           "arrowcolor": "#2a3f5f",
           "arrowhead": 0,
           "arrowwidth": 1
          },
          "autotypenumbers": "strict",
          "coloraxis": {
           "colorbar": {
            "outlinewidth": 0,
            "ticks": ""
           }
          },
          "colorscale": {
           "diverging": [
            [
             0,
             "#8e0152"
            ],
            [
             0.1,
             "#c51b7d"
            ],
            [
             0.2,
             "#de77ae"
            ],
            [
             0.3,
             "#f1b6da"
            ],
            [
             0.4,
             "#fde0ef"
            ],
            [
             0.5,
             "#f7f7f7"
            ],
            [
             0.6,
             "#e6f5d0"
            ],
            [
             0.7,
             "#b8e186"
            ],
            [
             0.8,
             "#7fbc41"
            ],
            [
             0.9,
             "#4d9221"
            ],
            [
             1,
             "#276419"
            ]
           ],
           "sequential": [
            [
             0,
             "#0d0887"
            ],
            [
             0.1111111111111111,
             "#46039f"
            ],
            [
             0.2222222222222222,
             "#7201a8"
            ],
            [
             0.3333333333333333,
             "#9c179e"
            ],
            [
             0.4444444444444444,
             "#bd3786"
            ],
            [
             0.5555555555555556,
             "#d8576b"
            ],
            [
             0.6666666666666666,
             "#ed7953"
            ],
            [
             0.7777777777777778,
             "#fb9f3a"
            ],
            [
             0.8888888888888888,
             "#fdca26"
            ],
            [
             1,
             "#f0f921"
            ]
           ],
           "sequentialminus": [
            [
             0,
             "#0d0887"
            ],
            [
             0.1111111111111111,
             "#46039f"
            ],
            [
             0.2222222222222222,
             "#7201a8"
            ],
            [
             0.3333333333333333,
             "#9c179e"
            ],
            [
             0.4444444444444444,
             "#bd3786"
            ],
            [
             0.5555555555555556,
             "#d8576b"
            ],
            [
             0.6666666666666666,
             "#ed7953"
            ],
            [
             0.7777777777777778,
             "#fb9f3a"
            ],
            [
             0.8888888888888888,
             "#fdca26"
            ],
            [
             1,
             "#f0f921"
            ]
           ]
          },
          "colorway": [
           "#636efa",
           "#EF553B",
           "#00cc96",
           "#ab63fa",
           "#FFA15A",
           "#19d3f3",
           "#FF6692",
           "#B6E880",
           "#FF97FF",
           "#FECB52"
          ],
          "font": {
           "color": "#2a3f5f"
          },
          "geo": {
           "bgcolor": "white",
           "lakecolor": "white",
           "landcolor": "#E5ECF6",
           "showlakes": true,
           "showland": true,
           "subunitcolor": "white"
          },
          "hoverlabel": {
           "align": "left"
          },
          "hovermode": "closest",
          "mapbox": {
           "style": "light"
          },
          "paper_bgcolor": "white",
          "plot_bgcolor": "#E5ECF6",
          "polar": {
           "angularaxis": {
            "gridcolor": "white",
            "linecolor": "white",
            "ticks": ""
           },
           "bgcolor": "#E5ECF6",
           "radialaxis": {
            "gridcolor": "white",
            "linecolor": "white",
            "ticks": ""
           }
          },
          "scene": {
           "xaxis": {
            "backgroundcolor": "#E5ECF6",
            "gridcolor": "white",
            "gridwidth": 2,
            "linecolor": "white",
            "showbackground": true,
            "ticks": "",
            "zerolinecolor": "white"
           },
           "yaxis": {
            "backgroundcolor": "#E5ECF6",
            "gridcolor": "white",
            "gridwidth": 2,
            "linecolor": "white",
            "showbackground": true,
            "ticks": "",
            "zerolinecolor": "white"
           },
           "zaxis": {
            "backgroundcolor": "#E5ECF6",
            "gridcolor": "white",
            "gridwidth": 2,
            "linecolor": "white",
            "showbackground": true,
            "ticks": "",
            "zerolinecolor": "white"
           }
          },
          "shapedefaults": {
           "line": {
            "color": "#2a3f5f"
           }
          },
          "ternary": {
           "aaxis": {
            "gridcolor": "white",
            "linecolor": "white",
            "ticks": ""
           },
           "baxis": {
            "gridcolor": "white",
            "linecolor": "white",
            "ticks": ""
           },
           "bgcolor": "#E5ECF6",
           "caxis": {
            "gridcolor": "white",
            "linecolor": "white",
            "ticks": ""
           }
          },
          "title": {
           "x": 0.05
          },
          "xaxis": {
           "automargin": true,
           "gridcolor": "white",
           "linecolor": "white",
           "ticks": "",
           "title": {
            "standoff": 15
           },
           "zerolinecolor": "white",
           "zerolinewidth": 2
          },
          "yaxis": {
           "automargin": true,
           "gridcolor": "white",
           "linecolor": "white",
           "ticks": "",
           "title": {
            "standoff": 15
           },
           "zerolinecolor": "white",
           "zerolinewidth": 2
          }
         }
        },
        "title": {
         "text": "Gumbel-Softmax with different Tau"
        },
        "width": 800,
        "xaxis": {
         "anchor": "y",
         "categoryarray": [
          "codeword 1",
          "codeword 2",
          "codeword 3"
         ],
         "categoryorder": "array",
         "domain": [
          0,
          1
         ],
         "title": {
          "text": "Codewords"
         }
        },
        "yaxis": {
         "anchor": "x",
         "domain": [
          0,
          1
         ],
         "range": [
          -0.05,
          1.05
         ],
         "title": {
          "text": "Probability"
         }
        }
       }
      }
     },
     "metadata": {},
     "output_type": "display_data"
    }
   ],
   "source": [
    "import numpy as np\n",
    "import pandas as pd\n",
    "import plotly.express as px\n",
    "\n",
    "num_codewords = 3\n",
    "logits = np.linspace(1, 2.0, num_codewords)\n",
    "labels = [f'codeword {i+1}' for i in range(num_codewords)]\n",
    "\n",
    "np.random.seed(42)\n",
    "def sample_gumbel(shape, eps=1e-20):\n",
    "    U = np.random.uniform(0, 1, shape)\n",
    "    return -np.log(-np.log(U + eps) + eps)\n",
    "\n",
    "gumbel_noise = sample_gumbel(logits.shape)\n",
    "\n",
    "taus = [2.0, 1.0, 0.5, 0.1]\n",
    "\n",
    "softmax_data = []\n",
    "\n",
    "for tau in taus:\n",
    "    noisy_logits = (logits + gumbel_noise) / tau\n",
    "    probs = np.exp(noisy_logits) / np.sum(np.exp(noisy_logits))\n",
    "    for i in range(num_codewords):\n",
    "        softmax_data.append({\n",
    "            'Tau': tau,\n",
    "            'Codeword': labels[i],\n",
    "            'Probability': probs[i]\n",
    "        })\n",
    "\n",
    "# 建立 dataframe\n",
    "df = pd.DataFrame(softmax_data)\n",
    "\n",
    "fig = px.strip(\n",
    "    df,\n",
    "    x='Codeword',\n",
    "    y='Probability',\n",
    "    color='Tau',\n",
    "    stripmode='group',\n",
    "    title='Gumbel-Softmax with different Tau',\n",
    "    labels={'Probability': 'Selection Probability'},\n",
    "    category_orders={'Codeword': labels}\n",
    ")\n",
    "\n",
    "fig.update_traces(\n",
    "    jitter=0.4,\n",
    "    marker=dict(size=10, opacity=0.8),\n",
    "    selector=dict(type='scatter')\n",
    ")\n",
    "\n",
    "fig.update_layout(\n",
    "    xaxis_title='Codewords',\n",
    "    yaxis_title='Probability',\n",
    "    legend_title='tau',\n",
    "    yaxis=dict(range=[-0.05, 1.05]),\n",
    "    width=800,\n",
    "    height=300\n",
    ")\n",
    "\n",
    "fig.show()\n"
   ]
  },
  {
   "cell_type": "code",
   "execution_count": 3,
   "id": "cda18bcd",
   "metadata": {},
   "outputs": [
    {
     "name": "stdout",
     "output_type": "stream",
     "text": [
      "tensor([[[1., 0., 1.],\n",
      "         [0., 1., 0.],\n",
      "         [1., 0., 1.]]])\n",
      "tensor([[[-0.3052,  0.4857, -0.3052],\n",
      "         [ 0.6070, -0.2642,  0.6070],\n",
      "         [-0.4318, -0.1112, -0.4318],\n",
      "         [ 0.4235,  0.0670,  0.4235],\n",
      "         [ 0.8403,  0.1467,  0.8403],\n",
      "         [-0.3708,  0.7868, -0.3708]]], grad_fn=<ConvolutionBackward0>)\n",
      "torch.Size([1, 6, 3])\n"
     ]
    }
   ],
   "source": [
    "import torch\n",
    "import torch.nn as nn\n",
    "\n",
    "# batch_size=1, channel=4, time_steps=10\n",
    "# x = torch.randn(1, 4, 3)\n",
    "\n",
    "torch.manual_seed(39)\n",
    "x = torch.tensor([[[1.0, 0.0, 1.0],\n",
    "                   [0.0, 1.0, 0.0],\n",
    "                   [1.0, 0.0, 1.0]]])\n",
    "print(x)\n",
    "\n",
    "pointwise_conv = nn.Conv1d(in_channels=3, out_channels=6, kernel_size=1)\n",
    "\n",
    "\n",
    "output = pointwise_conv(x)\n",
    "print(output)\n",
    "print(output.shape)\n"
   ]
  },
  {
   "cell_type": "code",
   "execution_count": null,
   "id": "783bae9e",
   "metadata": {},
   "outputs": [
    {
     "name": "stdout",
     "output_type": "stream",
     "text": [
      "torch.Size([2, 128, 100])\n",
      "torch.Size([2, 128, 100])\n",
      "torch.Size([2, 128, 100])\n",
      "torch.Size([2, 64, 100])\n"
     ]
    }
   ],
   "source": [
    "import torch\n",
    "import torch.nn as nn\n",
    "\n",
    "x = torch.randn(2, 64, 100)\n",
    "pointwise_conv = nn.Conv1d(in_channels=64, out_channels=128, kernel_size=1)\n",
    "out = pointwise_conv(x)\n",
    "print(out.shape)\n",
    "\n",
    "depthwise_conv = nn.Conv1d(in_channels=128, out_channels=128, kernel_size=3, padding=1, groups=128)\n",
    "out2 = depthwise_conv(out)\n",
    "print(out2.shape)\n",
    "\n",
    "glu_input = torch.randn(2, 128, 100)\n",
    "glu = nn.GLU(dim=1)\n",
    "print(glu_input.shape)\n",
    "out3 = glu(glu_input)\n",
    "print(out3.shape)\n"
   ]
  }
 ],
 "metadata": {
  "kernelspec": {
   "display_name": "emotion-conformer",
   "language": "python",
   "name": "python3"
  },
  "language_info": {
   "codemirror_mode": {
    "name": "ipython",
    "version": 3
   },
   "file_extension": ".py",
   "mimetype": "text/x-python",
   "name": "python",
   "nbconvert_exporter": "python",
   "pygments_lexer": "ipython3",
   "version": "3.10.17"
  }
 },
 "nbformat": 4,
 "nbformat_minor": 5
}
